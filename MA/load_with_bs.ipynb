{
 "cells": [
  {
   "cell_type": "markdown",
   "metadata": {},
   "source": [
    "### Script to Exctract Plugin Info from Wordpress"
   ]
  },
  {
   "cell_type": "code",
   "execution_count": 1,
   "metadata": {
    "collapsed": true
   },
   "outputs": [],
   "source": [
    "from bs4 import BeautifulSoup\n",
    "import re\n",
    "import requests\n",
    "import numpy as np\n",
    "import pandas as pd\n",
    "from collections import OrderedDict, defaultdict"
   ]
  },
  {
   "cell_type": "code",
   "execution_count": 2,
   "metadata": {
    "collapsed": true
   },
   "outputs": [],
   "source": [
    "## Loop over pages 2-99\n",
    "## Loop over all plugins on page\n",
    "## Extract data into one dictionary\n",
    "## Turn dictionary into dataframe"
   ]
  },
  {
   "cell_type": "code",
   "execution_count": 3,
   "metadata": {
    "collapsed": true
   },
   "outputs": [],
   "source": [
    "def get_star_count(plugin_soup):\n",
    "    '''Count the fields for each plugin where stars are filled or half and sum them up'''\n",
    "    full = len(re.findall('dashicons-star-filled',str(plugin_soup)))\n",
    "    half = len(re.findall('dashicons-star-half',str(plugin_soup)))\n",
    "    return full + (0.5*half)"
   ]
  },
  {
   "cell_type": "code",
   "execution_count": 4,
   "metadata": {
    "collapsed": true
   },
   "outputs": [],
   "source": [
    "def get_tested_with_info(plugin_soup):\n",
    "    '''Check whether tested_with info exists and return not available if not'''\n",
    "    if plugin_soup.find('span', {'class' : 'tested-with'}) == None:\n",
    "        return 'n/a'\n",
    "    else:\n",
    "        return plugin_soup.find('span', {'class' : 'tested-with'}).get_text()[6:-3]\n",
    "    "
   ]
  },
  {
   "cell_type": "code",
   "execution_count": 5,
   "metadata": {
    "collapsed": true
   },
   "outputs": [],
   "source": [
    "plugin_infos = []"
   ]
  },
  {
   "cell_type": "code",
   "execution_count": 6,
   "metadata": {
    "collapsed": false
   },
   "outputs": [
    {
     "name": "stdout",
     "output_type": "stream",
     "text": [
      "CPU times: user 2 µs, sys: 1 µs, total: 3 µs\n",
      "Wall time: 4.05 µs\n"
     ]
    }
   ],
   "source": [
    "%time\n",
    "for page in range(2, 100):\n",
    "    result = requests.get(\n",
    "        \"https://de.wordpress.org/plugins/browse/popular/page/\" + str(page) + \"/\")\n",
    "    c = result.content\n",
    "    soup = BeautifulSoup(c, 'html.parser')\n",
    "    plugins = soup.find_all('article')\n",
    "\n",
    "    for plugin in plugins:\n",
    "        plugin_info = {}\n",
    "        plugin_info['author'] = plugin.find(\n",
    "            'span', {'class': 'plugin-author'}).get_text()[2:-2]\n",
    "        plugin_info['plugin_name'] = plugin.find(\n",
    "            'header', {'class': 'entry-header'}).get_text()[1:-1]\n",
    "        plugin_info['rating_count'] = plugin.find(\n",
    "            'div', {'class': 'plugin-rating'}).get_text()[1:-1].split(\" \")[0]\n",
    "        plugin_info['rating_stars'] = get_star_count(plugin)\n",
    "        plugin_info['description'] = plugin.find(\n",
    "            'div', {'class': 'entry-excerpt'}).get_text()[1:-1]\n",
    "        plugin_info['active_installs'] = plugin.find(\n",
    "            'span', {'class': 'active-installs'}).get_text()[5:-2]\n",
    "        plugin_info['tested_with'] = get_tested_with_info(plugin)\n",
    "        plugin_info['last_updated'] = plugin.find(\n",
    "            'span', {'class': 'last-updated'}).get_text()[6:-2]\n",
    "        plugin_infos.append(plugin_info)"
   ]
  },
  {
   "cell_type": "code",
   "execution_count": 7,
   "metadata": {
    "collapsed": false
   },
   "outputs": [],
   "source": [
    "plugins_data = pd.DataFrame(plugin_infos)"
   ]
  },
  {
   "cell_type": "code",
   "execution_count": 8,
   "metadata": {
    "collapsed": false
   },
   "outputs": [],
   "source": [
    "plugins_data = plugins_data[['plugin_name', 'author', 'description', 'rating_count', \n",
    "                             'rating_stars', 'active_installs','tested_with', 'last_updated']]"
   ]
  },
  {
   "cell_type": "code",
   "execution_count": 12,
   "metadata": {
    "collapsed": false
   },
   "outputs": [
    {
     "data": {
      "text/html": [
       "<div>\n",
       "<style scoped>\n",
       "    .dataframe tbody tr th:only-of-type {\n",
       "        vertical-align: middle;\n",
       "    }\n",
       "\n",
       "    .dataframe tbody tr th {\n",
       "        vertical-align: top;\n",
       "    }\n",
       "\n",
       "    .dataframe thead th {\n",
       "        text-align: right;\n",
       "    }\n",
       "</style>\n",
       "<table border=\"1\" class=\"dataframe\">\n",
       "  <thead>\n",
       "    <tr style=\"text-align: right;\">\n",
       "      <th></th>\n",
       "      <th>plugin_name</th>\n",
       "      <th>author</th>\n",
       "      <th>description</th>\n",
       "      <th>rating_count</th>\n",
       "      <th>rating_stars</th>\n",
       "      <th>active_installs</th>\n",
       "      <th>tested_with</th>\n",
       "      <th>last_updated</th>\n",
       "    </tr>\n",
       "  </thead>\n",
       "  <tbody>\n",
       "    <tr>\n",
       "      <th>0</th>\n",
       "      <td>UpdraftPlus WordPress Backup Plugin</td>\n",
       "      <td>UpdraftPlus.Com, DavidAnderson</td>\n",
       "      <td>Backup und Wiederherstellung leicht gemacht. V...</td>\n",
       "      <td>2.830</td>\n",
       "      <td>5.0</td>\n",
       "      <td>1+ Millionen aktive Installationen</td>\n",
       "      <td>Getestet mit 4.9.6</td>\n",
       "      <td>Zuletzt aktualisiert vor 4 Wochen</td>\n",
       "    </tr>\n",
       "    <tr>\n",
       "      <th>1</th>\n",
       "      <td>Regenerate Thumbnails</td>\n",
       "      <td>Alex Mills (Viper007Bond)</td>\n",
       "      <td>Regenerate the thumbnails for one or more of y...</td>\n",
       "      <td>314</td>\n",
       "      <td>4.5</td>\n",
       "      <td>1+ Millionen aktive Installationen</td>\n",
       "      <td>Getestet mit 4.9.6</td>\n",
       "      <td>Zuletzt aktualisiert vor 4 Monaten</td>\n",
       "    </tr>\n",
       "    <tr>\n",
       "      <th>2</th>\n",
       "      <td>Page Builder by SiteOrigin</td>\n",
       "      <td>SiteOrigin</td>\n",
       "      <td>Erstelle responsive Seitenlayouts mit Widgets,...</td>\n",
       "      <td>934</td>\n",
       "      <td>5.0</td>\n",
       "      <td>1+ Millionen aktive Installationen</td>\n",
       "      <td>Getestet mit 4.9.6</td>\n",
       "      <td>Zuletzt aktualisiert vor 2 Wochen</td>\n",
       "    </tr>\n",
       "    <tr>\n",
       "      <th>3</th>\n",
       "      <td>Advanced Custom Fields</td>\n",
       "      <td>Elliot Condon</td>\n",
       "      <td>Erweitere WordPress um vielseitige, profession...</td>\n",
       "      <td>1.025</td>\n",
       "      <td>5.0</td>\n",
       "      <td>1+ Millionen aktive Installationen</td>\n",
       "      <td>Getestet mit 4.9.9</td>\n",
       "      <td>Zuletzt aktualisiert vor 3 Monaten</td>\n",
       "    </tr>\n",
       "    <tr>\n",
       "      <th>4</th>\n",
       "      <td>Google Analytics Dashboard for WP (GADWP)</td>\n",
       "      <td>ExactMetrics team</td>\n",
       "      <td>Connects Google Analytics with your WordPress ...</td>\n",
       "      <td>359</td>\n",
       "      <td>4.5</td>\n",
       "      <td>1+ Millionen aktive Installationen</td>\n",
       "      <td>Getestet mit 4.9.6</td>\n",
       "      <td>Zuletzt aktualisiert vor 2 Wochen</td>\n",
       "    </tr>\n",
       "  </tbody>\n",
       "</table>\n",
       "</div>"
      ],
      "text/plain": [
       "                                 plugin_name                          author  \\\n",
       "0        UpdraftPlus WordPress Backup Plugin  UpdraftPlus.Com, DavidAnderson   \n",
       "1                      Regenerate Thumbnails       Alex Mills (Viper007Bond)   \n",
       "2                 Page Builder by SiteOrigin                      SiteOrigin   \n",
       "3                     Advanced Custom Fields                   Elliot Condon   \n",
       "4  Google Analytics Dashboard for WP (GADWP)               ExactMetrics team   \n",
       "\n",
       "                                         description rating_count  \\\n",
       "0  Backup und Wiederherstellung leicht gemacht. V...        2.830   \n",
       "1  Regenerate the thumbnails for one or more of y...          314   \n",
       "2  Erstelle responsive Seitenlayouts mit Widgets,...          934   \n",
       "3  Erweitere WordPress um vielseitige, profession...        1.025   \n",
       "4  Connects Google Analytics with your WordPress ...          359   \n",
       "\n",
       "   rating_stars                     active_installs         tested_with  \\\n",
       "0           5.0  1+ Millionen aktive Installationen  Getestet mit 4.9.6   \n",
       "1           4.5  1+ Millionen aktive Installationen  Getestet mit 4.9.6   \n",
       "2           5.0  1+ Millionen aktive Installationen  Getestet mit 4.9.6   \n",
       "3           5.0  1+ Millionen aktive Installationen  Getestet mit 4.9.9   \n",
       "4           4.5  1+ Millionen aktive Installationen  Getestet mit 4.9.6   \n",
       "\n",
       "                         last_updated  \n",
       "0   Zuletzt aktualisiert vor 4 Wochen  \n",
       "1  Zuletzt aktualisiert vor 4 Monaten  \n",
       "2   Zuletzt aktualisiert vor 2 Wochen  \n",
       "3  Zuletzt aktualisiert vor 3 Monaten  \n",
       "4   Zuletzt aktualisiert vor 2 Wochen  "
      ]
     },
     "execution_count": 12,
     "metadata": {},
     "output_type": "execute_result"
    }
   ],
   "source": [
    "plugins_data.head()"
   ]
  },
  {
   "cell_type": "code",
   "execution_count": 9,
   "metadata": {
    "collapsed": true
   },
   "outputs": [],
   "source": [
    "plugins_data.to_excel(\"Info_on_all_wordpress_plugins.xlsx\")"
   ]
  }
 ],
 "metadata": {
  "kernelspec": {
   "display_name": "Python 3",
   "language": "python",
   "name": "python3"
  },
  "language_info": {
   "codemirror_mode": {
    "name": "ipython",
    "version": 3
   },
   "file_extension": ".py",
   "mimetype": "text/x-python",
   "name": "python",
   "nbconvert_exporter": "python",
   "pygments_lexer": "ipython3",
   "version": "3.5.3"
  }
 },
 "nbformat": 4,
 "nbformat_minor": 2
}
