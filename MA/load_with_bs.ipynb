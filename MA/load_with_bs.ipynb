{
 "cells": [
  {
   "cell_type": "code",
   "execution_count": 9,
   "metadata": {
    "collapsed": true
   },
   "outputs": [],
   "source": [
    "from bs4 import BeautifulSoup\n",
    "import re\n",
    "import requests\n",
    "import numpy as np\n",
    "import pandas as pd\n",
    "from collections import OrderedDict, defaultdict"
   ]
  },
  {
   "cell_type": "code",
   "execution_count": 3,
   "metadata": {
    "collapsed": true
   },
   "outputs": [],
   "source": [
    "## Loop over pages 2-99\n",
    "## Loop over all plugins on page\n",
    "## Extract data into one dictionary\n",
    "## Turn dictionary into dataframe"
   ]
  },
  {
   "cell_type": "code",
   "execution_count": 4,
   "metadata": {
    "collapsed": true
   },
   "outputs": [],
   "source": [
    "def get_star_count(plugin_soup):\n",
    "    '''Count the fields for each plugin where stars are filled or half and sum them up'''\n",
    "    full = len(re.findall('dashicons-star-filled',str(plugin_soup)))\n",
    "    half = len(re.findall('dashicons-star-half',str(plugin_soup)))\n",
    "    return full + (0.5*half)"
   ]
  },
  {
   "cell_type": "code",
   "execution_count": 66,
   "metadata": {
    "collapsed": true
   },
   "outputs": [],
   "source": [
    "def get_tested_with_info(plugin_soup):\n",
    "    '''Check whether tested_with info exists and return not available if not'''\n",
    "    if plugin_soup.find('span', {'class' : 'tested-with'}) == None:\n",
    "        return 'n/a'\n",
    "    else:\n",
    "        return plugin_soup.find('span', {'class' : 'tested-with'}).get_text()[6:-3]\n",
    "    "
   ]
  },
  {
   "cell_type": "code",
   "execution_count": 69,
   "metadata": {
    "collapsed": true
   },
   "outputs": [],
   "source": [
    "plugin_infos = []"
   ]
  },
  {
   "cell_type": "code",
   "execution_count": 70,
   "metadata": {
    "collapsed": false
   },
   "outputs": [],
   "source": [
    "%time\n",
    "for page in range(2,100):\n",
    "    result = requests.get(\"https://de.wordpress.org/plugins/browse/popular/page/\"+ str(page) + \"/\")\n",
    "    c = result.content\n",
    "    soup = BeautifulSoup(c, 'html.parser')\n",
    "    plugins =  soup.find_all('article')\n",
    "\n",
    "    for plugin in plugins:\n",
    "        plugin_info = {}\n",
    "        plugin_info['author'] = plugin.find('span', {'class' : 'plugin-author'}).get_text()[2:-2]\n",
    "        plugin_info['plugin_name'] = plugin.find('header', {'class' : 'entry-header'}).get_text()[1:-1]\n",
    "        plugin_info['rating_count'] = plugin.find('div', {'class':'plugin-rating'}).get_text()[1:-1].split(\" \")[0]\n",
    "        plugin_info['rating_stars'] = get_star_count(plugin)\n",
    "        plugin_info['description'] = plugin.find('div', {'class' : 'entry-excerpt'}).get_text()[1:-1]\n",
    "        plugin_info['active_installs'] = plugin.find('span', {'class' : 'active-installs'}).get_text()[5:-2]\n",
    "        plugin_info['tested_with'] = get_tested_with_info(plugin)\n",
    "        plugin_info['last_updated'] = plugin.find('span', {'class' : 'last-updated'}).get_text()[6:-2]\n",
    "        plugin_infos.append(plugin_info)"
   ]
  },
  {
   "cell_type": "code",
   "execution_count": 71,
   "metadata": {
    "collapsed": false
   },
   "outputs": [],
   "source": [
    "plugins_data = pd.DataFrame(plugin_infos)"
   ]
  },
  {
   "cell_type": "code",
   "execution_count": 78,
   "metadata": {
    "collapsed": false
   },
   "outputs": [],
   "source": [
    "plugins_data = plugins_data[['plugin_name', 'author', 'description', 'rating_count', \n",
    "                             'rating_stars', 'active_installs','tested_with', 'last_updated']]"
   ]
  },
  {
   "cell_type": "code",
   "execution_count": 79,
   "metadata": {
    "collapsed": true
   },
   "outputs": [],
   "source": [
    "plugins_data.to_excel(\"Info_on_all_wordpress_plugins.xlsx\")"
   ]
  }
 ],
 "metadata": {
  "kernelspec": {
   "display_name": "Python 3",
   "language": "python",
   "name": "python3"
  },
  "language_info": {
   "codemirror_mode": {
    "name": "ipython",
    "version": 3
   },
   "file_extension": ".py",
   "mimetype": "text/x-python",
   "name": "python",
   "nbconvert_exporter": "python",
   "pygments_lexer": "ipython3",
   "version": "3.5.3"
  }
 },
 "nbformat": 4,
 "nbformat_minor": 2
}
