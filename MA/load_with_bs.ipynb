{
 "cells": [
  {
   "cell_type": "code",
   "execution_count": 119,
   "metadata": {
    "collapsed": true
   },
   "outputs": [],
   "source": [
    "from bs4 import BeautifulSoup\n",
    "import requests\n",
    "import numpy as np\n",
    "import pandas as pd\n",
    "from collections import OrderedDict, defaultdict"
   ]
  },
  {
   "cell_type": "code",
   "execution_count": null,
   "metadata": {
    "collapsed": true
   },
   "outputs": [],
   "source": [
    "## Looop over pages 2-99\n",
    "## Loop over all plugins on page\n",
    "## Extract data into one dictionary\n",
    "## Turn dictionary into dataframe"
   ]
  },
  {
   "cell_type": "code",
   "execution_count": 195,
   "metadata": {
    "collapsed": true
   },
   "outputs": [],
   "source": [
    "def get_star_count(plugin_soup):\n",
    "    full = len(re.findall('dashicons-star-filled',str(plugin_soup)))\n",
    "    half = len(re.findall('dashicons-star-half',str(plugin_soup)))\n",
    "    return full + (0.5*half)"
   ]
  },
  {
   "cell_type": "code",
   "execution_count": 130,
   "metadata": {
    "collapsed": false
   },
   "outputs": [],
   "source": [
    "#for p in range(2,100):\n",
    " #   print(p)"
   ]
  },
  {
   "cell_type": "code",
   "execution_count": 196,
   "metadata": {
    "collapsed": true
   },
   "outputs": [],
   "source": [
    "plugin_infos = []"
   ]
  },
  {
   "cell_type": "code",
   "execution_count": 4,
   "metadata": {
    "collapsed": true
   },
   "outputs": [],
   "source": [
    "result = requests.get(\"https://de.wordpress.org/plugins/browse/popular/page/2/\")"
   ]
  },
  {
   "cell_type": "code",
   "execution_count": 5,
   "metadata": {
    "collapsed": false
   },
   "outputs": [
    {
     "data": {
      "text/plain": [
       "200"
      ]
     },
     "execution_count": 5,
     "metadata": {},
     "output_type": "execute_result"
    }
   ],
   "source": [
    "result.status_code"
   ]
  },
  {
   "cell_type": "code",
   "execution_count": 6,
   "metadata": {
    "collapsed": true
   },
   "outputs": [],
   "source": [
    "c = result.content"
   ]
  },
  {
   "cell_type": "code",
   "execution_count": 52,
   "metadata": {
    "collapsed": false
   },
   "outputs": [],
   "source": [
    "soup = BeautifulSoup(c, 'html.parser')"
   ]
  },
  {
   "cell_type": "code",
   "execution_count": 131,
   "metadata": {
    "collapsed": true
   },
   "outputs": [],
   "source": [
    "plugins =  soup.find_all('article')"
   ]
  },
  {
   "cell_type": "code",
   "execution_count": 203,
   "metadata": {
    "collapsed": false
   },
   "outputs": [
    {
     "name": "stdout",
     "output_type": "stream",
     "text": [
      "UpdraftPlus WordPress Backup Plugin\n",
      "Regenerate Thumbnails\n",
      "Page Builder by SiteOrigin\n",
      "Advanced Custom Fields\n",
      "Google Analytics Dashboard for WP (GADWP)\n",
      "Hello Dolly\n",
      "W3 Total Cache\n",
      "All-in-One WP Migration\n",
      "Duplicator – WordPress Migration Plugin\n",
      "MailChimp for WordPress\n",
      "SiteOrigin Widgets Bundle\n",
      "Smush Image Compression and Optimization\n",
      "Ninja Forms – The Easy and Powerful Forms Builder\n",
      "Contact Form by WPForms – Drag & Drop Form Builder for WordPress\n"
     ]
    }
   ],
   "source": [
    "for plugin in plugins:\n",
    "    print(plugin.find('header', {'class' : 'entry-header'}).get_text()[1:-1])\n",
    "    plugin_info = {}\n",
    "    plugin_info['plugin_name'] = plugin.find('header', {'class' : 'entry-header'}).get_text()[1:-1]\n",
    "    #plugin_info['author'] = plugin.find('span', {'class' : 'plugin-author'}).get_text()[2:-2]\n",
    "    plugin_info['rating_count'] = plugin.find('div', {'class':'plugin-rating'}).get_text()[1:-1].split(\" \")[0]\n",
    "    plugin_info['rating_stars'] = get_star_count(plugin)\n",
    "    #plugin_info['active_installs'] = plugin.find('span', {'class' : 'active-installs'}).get_text()[5:-2]\n",
    "    #plugin_info['tested_with'] = plugin.find('span', {'class' : 'tested-with'}).get_text()[6:-3]\n",
    "    #plugin_info['last_updated'] = plugin.find('span', {'class' : 'last-updated'}).get_text()\n",
    "    plugin_info['description'] = plugin.find('div', {'class' : 'entry-excerpt'}).get_text()[1:-1]\n",
    "    plugin_infos.append(plugin_info)"
   ]
  },
  {
   "cell_type": "code",
   "execution_count": 205,
   "metadata": {
    "collapsed": false
   },
   "outputs": [
    {
     "data": {
      "text/html": [
       "<div>\n",
       "<style scoped>\n",
       "    .dataframe tbody tr th:only-of-type {\n",
       "        vertical-align: middle;\n",
       "    }\n",
       "\n",
       "    .dataframe tbody tr th {\n",
       "        vertical-align: top;\n",
       "    }\n",
       "\n",
       "    .dataframe thead th {\n",
       "        text-align: right;\n",
       "    }\n",
       "</style>\n",
       "<table border=\"1\" class=\"dataframe\">\n",
       "  <thead>\n",
       "    <tr style=\"text-align: right;\">\n",
       "      <th></th>\n",
       "      <th>description</th>\n",
       "      <th>plugin_name</th>\n",
       "      <th>rating_count</th>\n",
       "      <th>rating_stars</th>\n",
       "    </tr>\n",
       "  </thead>\n",
       "  <tbody>\n",
       "    <tr>\n",
       "      <th>0</th>\n",
       "      <td>Backup und Wiederherstellung leicht gemacht. V...</td>\n",
       "      <td>UpdraftPlus WordPress Backup Plugin</td>\n",
       "      <td>2.830</td>\n",
       "      <td>5.0</td>\n",
       "    </tr>\n",
       "    <tr>\n",
       "      <th>1</th>\n",
       "      <td>Regenerate the thumbnails for one or more of y...</td>\n",
       "      <td>Regenerate Thumbnails</td>\n",
       "      <td>314</td>\n",
       "      <td>4.5</td>\n",
       "    </tr>\n",
       "    <tr>\n",
       "      <th>2</th>\n",
       "      <td>Erstelle responsive Seitenlayouts mit Widgets,...</td>\n",
       "      <td>Page Builder by SiteOrigin</td>\n",
       "      <td>934</td>\n",
       "      <td>5.0</td>\n",
       "    </tr>\n",
       "    <tr>\n",
       "      <th>3</th>\n",
       "      <td>Erweitere WordPress um vielseitige, profession...</td>\n",
       "      <td>Advanced Custom Fields</td>\n",
       "      <td>1.025</td>\n",
       "      <td>5.0</td>\n",
       "    </tr>\n",
       "    <tr>\n",
       "      <th>4</th>\n",
       "      <td>Connects Google Analytics with your WordPress ...</td>\n",
       "      <td>Google Analytics Dashboard for WP (GADWP)</td>\n",
       "      <td>359</td>\n",
       "      <td>4.5</td>\n",
       "    </tr>\n",
       "    <tr>\n",
       "      <th>5</th>\n",
       "      <td>Das ist nicht nur ein Plugin, sondern symbolis...</td>\n",
       "      <td>Hello Dolly</td>\n",
       "      <td>196</td>\n",
       "      <td>2.5</td>\n",
       "    </tr>\n",
       "    <tr>\n",
       "      <th>6</th>\n",
       "      <td>Search Engine (SEO) &amp; Performance Optimization...</td>\n",
       "      <td>W3 Total Cache</td>\n",
       "      <td>4.037</td>\n",
       "      <td>4.5</td>\n",
       "    </tr>\n",
       "    <tr>\n",
       "      <th>7</th>\n",
       "      <td>Move, transfer, copy, migrate, and backup a si...</td>\n",
       "      <td>All-in-One WP Migration</td>\n",
       "      <td>4.364</td>\n",
       "      <td>5.0</td>\n",
       "    </tr>\n",
       "    <tr>\n",
       "      <th>8</th>\n",
       "      <td>WordPress-Migration und Backups sind so viel e...</td>\n",
       "      <td>Duplicator – WordPress Migration Plugin</td>\n",
       "      <td>1.703</td>\n",
       "      <td>5.0</td>\n",
       "    </tr>\n",
       "    <tr>\n",
       "      <th>9</th>\n",
       "      <td>MailChimp for WordPress, the #1 MailChimp plugin.</td>\n",
       "      <td>MailChimp for WordPress</td>\n",
       "      <td>975</td>\n",
       "      <td>5.0</td>\n",
       "    </tr>\n",
       "    <tr>\n",
       "      <th>10</th>\n",
       "      <td>The SiteOrigin widget bundle gives you a colle...</td>\n",
       "      <td>SiteOrigin Widgets Bundle</td>\n",
       "      <td>110</td>\n",
       "      <td>5.0</td>\n",
       "    </tr>\n",
       "    <tr>\n",
       "      <th>11</th>\n",
       "      <td>Compress and optimize (or optimise) image file...</td>\n",
       "      <td>Smush Image Compression and Optimization</td>\n",
       "      <td>3.840</td>\n",
       "      <td>5.0</td>\n",
       "    </tr>\n",
       "    <tr>\n",
       "      <th>12</th>\n",
       "      <td>Drag and drop fields in an intuitive UI to cre...</td>\n",
       "      <td>Ninja Forms – The Easy and Powerful Forms Builder</td>\n",
       "      <td>904</td>\n",
       "      <td>4.5</td>\n",
       "    </tr>\n",
       "    <tr>\n",
       "      <th>13</th>\n",
       "      <td>The best WordPress contact form plugin. Drag &amp;...</td>\n",
       "      <td>Contact Form by WPForms – Drag &amp; Drop Form Bui...</td>\n",
       "      <td>2.058</td>\n",
       "      <td>5.0</td>\n",
       "    </tr>\n",
       "  </tbody>\n",
       "</table>\n",
       "</div>"
      ],
      "text/plain": [
       "                                          description  \\\n",
       "0   Backup und Wiederherstellung leicht gemacht. V...   \n",
       "1   Regenerate the thumbnails for one or more of y...   \n",
       "2   Erstelle responsive Seitenlayouts mit Widgets,...   \n",
       "3   Erweitere WordPress um vielseitige, profession...   \n",
       "4   Connects Google Analytics with your WordPress ...   \n",
       "5   Das ist nicht nur ein Plugin, sondern symbolis...   \n",
       "6   Search Engine (SEO) & Performance Optimization...   \n",
       "7   Move, transfer, copy, migrate, and backup a si...   \n",
       "8   WordPress-Migration und Backups sind so viel e...   \n",
       "9   MailChimp for WordPress, the #1 MailChimp plugin.   \n",
       "10  The SiteOrigin widget bundle gives you a colle...   \n",
       "11  Compress and optimize (or optimise) image file...   \n",
       "12  Drag and drop fields in an intuitive UI to cre...   \n",
       "13  The best WordPress contact form plugin. Drag &...   \n",
       "\n",
       "                                          plugin_name rating_count  \\\n",
       "0                 UpdraftPlus WordPress Backup Plugin        2.830   \n",
       "1                               Regenerate Thumbnails          314   \n",
       "2                          Page Builder by SiteOrigin          934   \n",
       "3                              Advanced Custom Fields        1.025   \n",
       "4           Google Analytics Dashboard for WP (GADWP)          359   \n",
       "5                                         Hello Dolly          196   \n",
       "6                                      W3 Total Cache        4.037   \n",
       "7                             All-in-One WP Migration        4.364   \n",
       "8             Duplicator – WordPress Migration Plugin        1.703   \n",
       "9                             MailChimp for WordPress          975   \n",
       "10                          SiteOrigin Widgets Bundle          110   \n",
       "11           Smush Image Compression and Optimization        3.840   \n",
       "12  Ninja Forms – The Easy and Powerful Forms Builder          904   \n",
       "13  Contact Form by WPForms – Drag & Drop Form Bui...        2.058   \n",
       "\n",
       "    rating_stars  \n",
       "0            5.0  \n",
       "1            4.5  \n",
       "2            5.0  \n",
       "3            5.0  \n",
       "4            4.5  \n",
       "5            2.5  \n",
       "6            4.5  \n",
       "7            5.0  \n",
       "8            5.0  \n",
       "9            5.0  \n",
       "10           5.0  \n",
       "11           5.0  \n",
       "12           4.5  \n",
       "13           5.0  "
      ]
     },
     "execution_count": 205,
     "metadata": {},
     "output_type": "execute_result"
    }
   ],
   "source": [
    "pd.DataFrame(plugin_infos)"
   ]
  },
  {
   "cell_type": "code",
   "execution_count": 185,
   "metadata": {
    "collapsed": false
   },
   "outputs": [
    {
     "data": {
      "text/plain": [
       "'2.830'"
      ]
     },
     "execution_count": 185,
     "metadata": {},
     "output_type": "execute_result"
    }
   ],
   "source": [
    "plugins[0].find('div', {'class':'plugin-rating'}).get_text()[1:-1].split(\" \")[0]"
   ]
  },
  {
   "cell_type": "code",
   "execution_count": 160,
   "metadata": {
    "collapsed": false
   },
   "outputs": [
    {
     "data": {
      "text/plain": [
       "''"
      ]
     },
     "execution_count": 160,
     "metadata": {},
     "output_type": "execute_result"
    }
   ],
   "source": [
    "plugins[0].find('span', {'class' : 'dashicons dashicons-star-filled'}).get_text()[1:-1]"
   ]
  },
  {
   "cell_type": "code",
   "execution_count": null,
   "metadata": {
    "collapsed": true
   },
   "outputs": [],
   "source": [
    "Plugin Name"
   ]
  },
  {
   "cell_type": "markdown",
   "metadata": {},
   "source": [
    "###Plugin Name"
   ]
  },
  {
   "cell_type": "code",
   "execution_count": 137,
   "metadata": {
    "collapsed": false
   },
   "outputs": [
    {
     "data": {
      "text/plain": [
       "'UpdraftPlus WordPress Backup Plugin'"
      ]
     },
     "execution_count": 137,
     "metadata": {},
     "output_type": "execute_result"
    }
   ],
   "source": [
    "plugins[0].find('header', {'class' : 'entry-header'}).get_text()[1:-1]"
   ]
  },
  {
   "cell_type": "code",
   "execution_count": 153,
   "metadata": {
    "collapsed": false
   },
   "outputs": [
    {
     "data": {
      "text/plain": [
       "'Backup und Wiederherstellung leicht gemacht. Vollständige Backups: manuell oder geplant (Sicherung in Dropbox, S3, Google…'"
      ]
     },
     "execution_count": 153,
     "metadata": {},
     "output_type": "execute_result"
    }
   ],
   "source": [
    "plugins[0].find('div', {'class' : 'entry-excerpt'}).get_text()[1:-1]"
   ]
  },
  {
   "cell_type": "code",
   "execution_count": 148,
   "metadata": {
    "collapsed": false
   },
   "outputs": [
    {
     "data": {
      "text/plain": [
       "'UpdraftPlus.Com, DavidAnderson'"
      ]
     },
     "execution_count": 148,
     "metadata": {},
     "output_type": "execute_result"
    }
   ],
   "source": [
    "articles[0].find('span', {'class' : 'plugin-author'}).get_text()[2:-2]"
   ]
  },
  {
   "cell_type": "code",
   "execution_count": 187,
   "metadata": {
    "collapsed": false
   },
   "outputs": [
    {
     "data": {
      "text/plain": [
       "'1+ Millionen aktive Installationen'"
      ]
     },
     "execution_count": 187,
     "metadata": {},
     "output_type": "execute_result"
    }
   ],
   "source": [
    "articles[0].find('span', {'class' : 'active-installs'}).get_text()[5:-2]"
   ]
  },
  {
   "cell_type": "code",
   "execution_count": 190,
   "metadata": {
    "collapsed": false
   },
   "outputs": [
    {
     "data": {
      "text/plain": [
       "'Getestet mit 4.9.6'"
      ]
     },
     "execution_count": 190,
     "metadata": {},
     "output_type": "execute_result"
    }
   ],
   "source": [
    "articles[0].find('span', {'class' : 'tested-with'}).get_text()[6:-3]"
   ]
  },
  {
   "cell_type": "code",
   "execution_count": 192,
   "metadata": {
    "collapsed": false
   },
   "outputs": [
    {
     "data": {
      "text/plain": [
       "'Zuletzt aktualisiert vor 4 Wochen'"
      ]
     },
     "execution_count": 192,
     "metadata": {},
     "output_type": "execute_result"
    }
   ],
   "source": [
    "articles[0].find('span', {'class' : 'last-updated'}).get_text()[6:-2]"
   ]
  },
  {
   "cell_type": "code",
   "execution_count": null,
   "metadata": {
    "collapsed": true
   },
   "outputs": [],
   "source": []
  }
 ],
 "metadata": {
  "kernelspec": {
   "display_name": "Python 3",
   "language": "python",
   "name": "python3"
  },
  "language_info": {
   "codemirror_mode": {
    "name": "ipython",
    "version": 3
   },
   "file_extension": ".py",
   "mimetype": "text/x-python",
   "name": "python",
   "nbconvert_exporter": "python",
   "pygments_lexer": "ipython3",
   "version": "3.5.3"
  }
 },
 "nbformat": 4,
 "nbformat_minor": 2
}
